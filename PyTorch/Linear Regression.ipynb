{
 "cells": [
  {
   "cell_type": "markdown",
   "metadata": {},
   "source": [
    "# Linear Regression with PyTorch\n",
    "\n",
    "### Simple Linear Regression Basics\n",
    "- Allows us to understand **relationship** between two continuous variables\n",
    "- Example:\n",
    "    - x: independent variable: weight\n",
    "    - y: dependent variable: height\n",
    "    - $y=\\alpha x + \\beta $\n",
    "    "
   ]
  },
  {
   "cell_type": "code",
   "execution_count": null,
   "metadata": {},
   "outputs": [],
   "source": [
    "#Example of a linear regression\n",
    "import numpy as np\n",
    "import matplotlib.pyplot as plt\n",
    "\n",
    "np.random.seed(1)\n",
    "n=50\n",
    "x=np.randome.randn(n) #Take 50 random numbers\n",
    "y=x*np.random.randn(n) #Multiply by 50 random numbers\n",
    "colors=np.random.rand(n) \n",
    "\n",
    "#np\n",
    "c"
   ]
  }
 ],
 "metadata": {
  "kernelspec": {
   "display_name": "Python 3",
   "language": "python",
   "name": "python3"
  },
  "language_info": {
   "codemirror_mode": {
    "name": "ipython",
    "version": 3
   },
   "file_extension": ".py",
   "mimetype": "text/x-python",
   "name": "python",
   "nbconvert_exporter": "python",
   "pygments_lexer": "ipython3",
   "version": "3.6.4"
  }
 },
 "nbformat": 4,
 "nbformat_minor": 2
}
